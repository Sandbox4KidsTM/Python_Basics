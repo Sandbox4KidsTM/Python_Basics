{
 "cells": [
  {
   "cell_type": "markdown",
   "metadata": {},
   "source": [
    "# Python Intro Week 2\n",
    "\n",
    "## The Nim Game\n",
    "The Nim game is an ancient 2 player turn-based game. We will be progamming a basic implementation of the Nim game. Far from perfect, our program will allow two players to take turns with a basic text interface. Our program will have very limited validation and error handling so we will rely on the players to play fairly and properly.\n",
    "\n",
    "The game goes like this. The players agree on a set number of piles and in each pile they place an arbitrary number of tokens. They then take turns choosing a pile and taking a number of tokens from each pile. The person to take the last token/tokens is the winner. There is a second game mode in which the player to take the last token loses the game. We will implement both.\n",
    "\n",
    "This program lends itself well to both a scripting paradigm or an object-oriented paradigm. We will be using the object-oriented approach."
   ]
  },
  {
   "cell_type": "code",
   "execution_count": null,
   "metadata": {
    "scrolled": true
   },
   "outputs": [],
   "source": [
    "class Nim():\n",
    "     \n",
    "    def __init__(self):\n",
    "        game_mode, piles = self._setup()\n",
    "        self._mode = game_mode # True is normal, false is misere\n",
    "        self._piles = piles\n",
    "        self._turn = 1\n",
    "        self._winner = False\n",
    "        \n",
    "    def __repr__(self):\n",
    "        # Comparison operators == (equal to); != (not equal to); \n",
    "        # <, <= (less than); >, >= (greater than)\n",
    "        if self._winner:\n",
    "            return \"Player {} Wins!\".format(self._turn)\n",
    "        else:\n",
    "            return \"Player {}: \\n{}\".format(self._turn ,self._piles)\n",
    "        \n",
    "    def _setup(self):\n",
    "        game_mode = bool(int(input(\"Game mode: (1)Normal, (2)Misere \\n$ \")) % 2)\n",
    "        piles = []\n",
    "        pile = int(input(\"Input number for pile and 0 to finish\\n% \"))\n",
    "        while pile > 0:\n",
    "            piles.append(pile)\n",
    "            pile = int(input(\"% \"))\n",
    "        return (game_mode, piles)\n",
    "    \n",
    "    def play(self):\n",
    "        while not self._winner:\n",
    "            print(self)\n",
    "            pile = int(input(\"Pile: \"))\n",
    "            tokens = int(input(\"Tokens: \"))\n",
    "            self._piles[pile - 1] -= tokens\n",
    "            self._end_turn()\n",
    "        print(\"Winner: \", self)\n",
    "            \n",
    "    def _end_turn(self):\n",
    "        if sum(self._piles) == 0: # There is a winner\n",
    "            self._winner = True\n",
    "            if not self._mode:\n",
    "                if self._turn == 1:\n",
    "                    self._turn = 2\n",
    "                else:\n",
    "                    self.turn = 1\n",
    "        else:\n",
    "            # Nobody has won, next players turn (update _turn)\n",
    "            if self._turn == 1:\n",
    "                self._turn = 2\n",
    "            else:\n",
    "                self._turn = 1\n",
    "                \n",
    "\n",
    "game = Nim()\n",
    "game.play()"
   ]
  },
  {
   "cell_type": "markdown",
   "metadata": {},
   "source": [
    "## Recursion\n",
    "Warm up program: Finding the factorial:\n",
    "\n",
    "Factorial function (!) returns the product of all the positive integers below the value\n",
    "\n",
    "Outline\n",
    "```\n",
    "def factorial(num)\n",
    "    product = 1\n",
    "    while num is larger than 0:\n",
    "        multiply product by num\n",
    "        subtract one from num\n",
    "    return product\n",
    "```"
   ]
  },
  {
   "cell_type": "code",
   "execution_count": null,
   "metadata": {},
   "outputs": [],
   "source": [
    "def factorial(num):\n",
    "    # Write the factorial logic\n",
    "    product = 1\n",
    "    while num > 1:\n",
    "        product *= num\n",
    "        num -= 1\n",
    "    return product\n",
    "\n",
    "print(\"The factorial of 4 is: \", factorial(4))"
   ]
  },
  {
   "cell_type": "markdown",
   "metadata": {},
   "source": [
    "Recursion is the idea that we can call a function inside itself. Think Inception but with functions. There is nothing stopping us from calling functions within function definitions, and this includes calling the function we are defining.\n",
    "\n",
    "There are certain programming problems that lend themselves to this approach, for example the Factorial function."
   ]
  },
  {
   "cell_type": "code",
   "execution_count": null,
   "metadata": {},
   "outputs": [],
   "source": [
    "def fact(num):\n",
    "    # Multipling by 1 does not change our number so we can stop at 2\n",
    "    if num == 2: \n",
    "        return 2\n",
    "    return (num * fact(num - 1))\n",
    "\n",
    "print(\"The factorial of 4 is: \", fact(4))"
   ]
  },
  {
   "cell_type": "code",
   "execution_count": null,
   "metadata": {},
   "outputs": [],
   "source": [
    "def iter_fib(n): # nth fibonacci number (0 gives the first fibonacci)\n",
    "    secondLast = 0\n",
    "    if n == 0:\n",
    "        return 0\n",
    "    Last = 1\n",
    "    for i in range(0,n - 1):\n",
    "        temp = secondLast + Last\n",
    "        secondLast = Last\n",
    "        Last = temp\n",
    "    return Last\n",
    "\n",
    "for i in range(0, 10):\n",
    "    print(iter_fib(i))"
   ]
  },
  {
   "cell_type": "code",
   "execution_count": null,
   "metadata": {},
   "outputs": [],
   "source": [
    "def fib(n): # nth fibonacci number (0 gives the first fibonacci)\n",
    "    if n == 0:\n",
    "        return 0\n",
    "    elif n == 1:\n",
    "        return 1\n",
    "    return fib(n -  1) + fib(n - 2)\n",
    "\n",
    "for i in range(0, 10):\n",
    "    print(fib(i))"
   ]
  },
  {
   "cell_type": "markdown",
   "metadata": {},
   "source": [
    "## Towers of Hanoi"
   ]
  },
  {
   "cell_type": "code",
   "execution_count": null,
   "metadata": {},
   "outputs": [],
   "source": [
    "def move(source, destination):\n",
    "    print('Move from Pillar {} to Pillar {}.'.format(source, destination))\n",
    "    \n",
    "def towers_of_hanoi(blocks, source = 1, destination = 2, aux = 3):\n",
    "    if blocks == 1:\n",
    "        move(source, destination)\n",
    "    else:\n",
    "        towers_of_hanoi(blocks - 1, source, aux, destination)\n",
    "        move(source, destination)\n",
    "        towers_of_hanoi(blocks - 1, aux, destination, source)\n",
    "    \n",
    "towers_of_hanoi(4)"
   ]
  },
  {
   "cell_type": "code",
   "execution_count": null,
   "metadata": {},
   "outputs": [],
   "source": [
    "# Generate the lucas numbers\n",
    "def lucas(n):\n",
    "    if n == 0:\n",
    "        return 2\n",
    "    elif n == 1:\n",
    "        return 1\n",
    "    return lucas(n - 1) + lucas(n - 2)\n",
    "                            \n",
    "# Generate the Catalan numbers\n",
    "def catalan(n):\n",
    "    if n == 0:\n",
    "        return 1\n",
    "    else:\n",
    "        coeff = ((4.0 * (n-1) + 2) / ((n-1) + 2))\n",
    "        return int(coeff * catalan(n - 1))\n",
    "    \n",
    "for i in range(0,10):\n",
    "    print(catalan(i))"
   ]
  },
  {
   "cell_type": "markdown",
   "metadata": {},
   "source": [
    "## Number Guessing Game\n",
    "Write a program that guesses a secret number. To play the game, you are going to pick a number in your head between two endpoints, 0..100 or 0..1000. The computer will then start to guess your number. You will respond by telling the computer if their is too high, too low, or spot on. When the computer gets the number, the game ends."
   ]
  },
  {
   "cell_type": "code",
   "execution_count": null,
   "metadata": {},
   "outputs": [],
   "source": [
    "print(\"I am going to guess your number.\")\n",
    "low = 0\n",
    "high = 1000\n",
    "print(\"Pick a number between {} and {}\". format(low, high))\n",
    "print(\"When I ask, type 'e' for equal, 's' for too small, or 'b' for too big.\")\n",
    "\n",
    "guess = int((high + low) / 2)\n",
    "result = input(\"Is {} your number? \".format(guess))\n",
    "\n",
    "while result != 'e':\n",
    "    # if the guess was too small\n",
    "    # update the low variable to reflect the new range\n",
    "    if result == 's':\n",
    "        low = guess + 1\n",
    "    \n",
    "    # otherwise\n",
    "    # update the high variable to reflect the new range\n",
    "    else:\n",
    "        high = guess - 1\n",
    "    \n",
    "    # calculate the new guess\n",
    "    guess = int((high + low) / 2)\n",
    "    # ask the user if this new guess is their number\n",
    "    result = input(\"Is {} your number? \".format(guess))"
   ]
  },
  {
   "cell_type": "markdown",
   "metadata": {},
   "source": [
    "## Warrior Game\n",
    "The warrior game uses Object Oriented Programming paradigms to create a basic text-based game where two or more warriors battle to claim victory. We will be defining a class called Warrior which  will model a real life warrior, in particular a waarrior's health and damage dealing capibilities. \n",
    "\n",
    "We also need a class that allows us to battle two or more warriors. The Army class will simulate a battle between two teams of Warriors."
   ]
  },
  {
   "cell_type": "code",
   "execution_count": null,
   "metadata": {},
   "outputs": [],
   "source": [
    "import random\n",
    "\n",
    "class Warrior:\n",
    "    \n",
    "    ## Fields: {Name, Health, MaxDamage, MaxBlock, Defeated}\n",
    "    def __init__(self, name, health, maxDamage, maxBlock):\n",
    "        self.name = name\n",
    "        self._health = health\n",
    "        self._maxDamage = maxDamage\n",
    "        self._maxBlock = maxBlock\n",
    "        self._defeated = False\n",
    "        \n",
    "    ## Methods: {Attack, Defend, is_defeated}\n",
    "    def attack(self, warrior):\n",
    "        damage = random.randint(1, self._maxDamage)\n",
    "    \n",
    "        ## All the attacking logic is done in the defender's Defend method\n",
    "        if not warrior._defeated:\n",
    "            print(\"{} attacked {} with {} damage!\"\\\n",
    "                  .format(self.name, warrior.name, damage))\n",
    "            if (warrior.defend(damage) == True): \n",
    "                self._maxDamage += 1\n",
    "                print(\"{} has defeated his enemy, gained 1 max damage.\"\\\n",
    "                      .format(self.name))\n",
    "    \n",
    "    def defend(self, damage):\n",
    "        block = random.randint(2, self._maxBlock) \n",
    "        if damage > block: ## If we can't block all the damage\n",
    "            self._health -= damage - block # Take damage\n",
    "            print(\"{} took {} damage, (blocked {} damage)\"\\\n",
    "                  .format(self.name, damage - block, block))\n",
    "            if self._health <= 0: # If we have no health\n",
    "                self._defeated = True  # We have been defeated\n",
    "                print(\"{} has been defeated!\".format(self.name))\n",
    "            else:\n",
    "                print(\"{} has {} health left.\"\\\n",
    "                      .format(self.name, self._health))\n",
    "        else:\n",
    "            print(\"{} blocked all {}\".format(self.name, damage))\n",
    "        return self._defeated\n",
    "    \n",
    "    def is_defeated(self):\n",
    "        return self._defeated\n",
    "    \n",
    "class Army:\n",
    "    ## Fields: {id, List of Warriors, defeated}\n",
    "    def __init__(self,num, warriors):\n",
    "        self.id = num\n",
    "        self.warriors = warriors\n",
    "        self.defeated()\n",
    "        \n",
    "    def get_alive(self):\n",
    "        alive = []\n",
    "        for warrior in self.warriors:\n",
    "            if not warrior.is_defeated():\n",
    "                alive.append(warrior)\n",
    "        return alive\n",
    "        \n",
    "    ## Methods: {Attack a different army, defeated()}\n",
    "    def defeated(self):\n",
    "        defeated = True\n",
    "        for warrior in self.warriors:\n",
    "            defeated = (defeated and warrior.is_defeated())\n",
    "        self._defeated = defeated\n",
    "        return defeated\n",
    "    \n",
    "    def attack(self, army):\n",
    "        for warrior in self.get_alive():\n",
    "            alive = army.get_alive()\n",
    "            num_enemy = len(alive)\n",
    "            if num_enemy > 0:\n",
    "                enemy = random.randint(0, num_enemy - 1)\n",
    "                warrior.attack(alive[enemy])\n",
    "        if army.defeated():\n",
    "            print(\"Army {} defeated army {}.\".format(self.id, army.id))\n",
    "            return True\n",
    "        return False\n",
    "\n",
    "Kirthi = Warrior(\"Kirthi\", 15, 15, 15)\n",
    "Eugene = Warrior(\"Eugene\", 10, 30, 5)\n",
    "Naveen = Warrior(\"Naveen\", 40, 10, 20)\n",
    "Harrison = Warrior(\"Harrison\", 15, 15, 15)\n",
    "Angel = Warrior(\"Angel\", 10, 30, 5)\n",
    "Param = Warrior(\"Param\", 40, 10, 20)\n",
    "army1 = Army(1, [Kirthi, Eugene, Naveen])\n",
    "army2 = Army(2, [Harrison, Angel, Param])\n",
    "\n",
    "while not army1.defeated() and not army2.defeated():\n",
    "    army1.attack(army2)\n",
    "    army2.attack(army1)\n",
    "    \n",
    "print(\"\")\n",
    "    \n",
    "Mitch = Warrior(\"Mitch\", 20,20,20)\n",
    "Misiel = Warrior(\"Misiel\", 20, 20, 20)\n",
    "army3 = Army(3, [Mitch])\n",
    "army4 = Army(4, [Misiel])\n",
    "while not army3.defeated() and not army4.defeated():\n",
    "    army3.attack(army4)\n",
    "    army4.attack(army3)"
   ]
  },
  {
   "cell_type": "markdown",
   "metadata": {},
   "source": [
    "## Exploring Libraries\n",
    "### Matplotlib & Numpy\n",
    "Matplotlib is a math plotting library. If we need plot a big selection of data, matplotlib is a great way to do it."
   ]
  },
  {
   "cell_type": "code",
   "execution_count": 7,
   "metadata": {},
   "outputs": [
    {
     "data": {
      "image/png": "[encoded data removed]",
      "text/plain": [
       "<Figure size 432x288 with 1 Axes>"
      ]
     },
     "metadata": {},
     "output_type": "display_data"
    }
   ],
   "source": [
    "import matplotlib\n",
    "import matplotlib.pyplot as plt\n",
    "import numpy as np\n",
    "%matplotlib inline\n",
    "\n",
    "x = np.arange(0.0, 2.0, 0.01)\n",
    "y = np.cos(2 * np.pi * x)\n",
    "\n",
    "fig, ax = plt.subplots()\n",
    "ax.plot(x, y)\n",
    "\n",
    "ax.set(xlabel=\"Time (s)\", Title=\"Sin(x)\")\n",
    "\n",
    "plt.show()"
   ]
  },
  {
   "cell_type": "code",
   "execution_count": 38,
   "metadata": {},
   "outputs": [
    {
     "data": {
      "image/png": "[encoded data removed]",
      "text/plain": [
       "<Figure size 432x288 with 1 Axes>"
      ]
     },
     "metadata": {},
     "output_type": "display_data"
    }
   ],
   "source": [
    "## Using imports from above\n",
    "labels = 'Python', 'C#', 'Java', 'Haskell', 'Lisp'\n",
    "values = [55, 50, 45, 15, 10]\n",
    "\n",
    "fig, ax = plt.subplots()\n",
    "explode = (0.1, 0.1, 0.0, 0.0, 0.0)\n",
    "\n",
    "ax.pie(values, explode=explode, labels=labels, shadow=True)\n",
    "ax.axis('equal')\n",
    "\n",
    "plt.show()"
   ]
  },
  {
   "cell_type": "code",
   "execution_count": 67,
   "metadata": {},
   "outputs": [
    {
     "data": {
      "image/png": "[encoded data removed]",
      "text/plain": [
       "<Figure size 432x288 with 1 Axes>"
      ]
     },
     "metadata": {},
     "output_type": "display_data"
    }
   ],
   "source": [
    "## Using imports from above\n",
    "a = 5\n",
    "theta = np.arange(0.0, 4* a, 0.01)\n",
    "r = 4*np.sin(a*theta)\n",
    "\n",
    "polar_ax = plt.subplot(111, projection='polar')\n",
    "polar_ax.set_rticks([])\n",
    "polar_ax.plot(theta, r)\n",
    "\n",
    "plt.show()"
   ]
  },
  {
   "cell_type": "markdown",
   "metadata": {},
   "source": [
    "## Requests & Json\n",
    "The Requests library allow us to make requests of web APIs and more generally, make any http request. A commun use of the requests library is to import data into our programs. In this program we will be importing the weather data for a given zipcode. We will be using OpenWeatherMap.org's API and the requests library to get this weather data.\n",
    "\n",
    "Then we will read and manipulate the data using the Json library. The http request will yeild an http response with an status code, header, and json text file. We can use the loads (load string) function from the Json library to parse the responce into a dictionary that we can manipulate with python!"
   ]
  },
  {
   "cell_type": "code",
   "execution_count": 113,
   "metadata": {},
   "outputs": [
    {
     "name": "stdout",
     "output_type": "stream",
     "text": [
      "200\n"
     ]
    }
   ],
   "source": [
    "## Requests\n",
    "import requests\n",
    "import json\n",
    "from sense_hat import SenseHat\n",
    "\n",
    "api_key = \"27d416217cde265aec0256b4d48c1bdc\"\n",
    "zipcode = \"91360\"\n",
    "url = \"http://api.openweathermap.org/data/2.5/weather?zip={}&APPID={}\"\n",
    "    .format(zipcode ,api_key)\n",
    "\n",
    "r = requests.get(url)\n",
    "print(r.status_code)"
   ]
  },
  {
   "cell_type": "code",
   "execution_count": 118,
   "metadata": {
    "scrolled": true
   },
   "outputs": [
    {
     "name": "stdout",
     "output_type": "stream",
     "text": [
      "The temperature in Thousand Oaks today is 78.44000000000003\n",
      "It is going to be a nice day.\n",
      "The pi hat says the temp is 110.50624771118164\n"
     ]
    }
   ],
   "source": [
    "def kelvin_to_fahr(temp):\n",
    "    return 9/5 * (temp - 273) + 32\n",
    "\n",
    "def celcius_to_fahr(temp):\n",
    "    return 9/5 * (temp) + 32\n",
    "\n",
    "data = json.loads(r.text)\n",
    "if 'main' in data and 'temp' in data['main'] and 'name' in data:\n",
    "    town = data['name']\n",
    "    temp = data['main']['temp']\n",
    "    temp = kelvin_to_fahr(temp)\n",
    "    print(\"The temperature in {} today is {}\".format(town, temp))\n",
    "       \n",
    "if temp > 70 and temp < 87:\n",
    "    print(\"It is going to be a nice day.\")\n",
    "        \n",
    "hat = SenseHat()\n",
    "pi_temp = hat.get_temperature_from_pressure()\n",
    "print(\"The pi hat says the temp is {}\".format(celcius_to_fahr(pi_temp)))"
   ]
  }
 ],
 "metadata": {
  "kernelspec": {
   "display_name": "Python 3",
   "language": "python",
   "name": "python3"
  },
  "language_info": {
   "codemirror_mode": {
    "name": "ipython",
    "version": 3
   },
   "file_extension": ".py",
   "mimetype": "text/x-python",
   "name": "python",
   "nbconvert_exporter": "python",
   "pygments_lexer": "ipython3",
   "version": "3.6.4"
  }
 },
 "nbformat": 4,
 "nbformat_minor": 2
}
